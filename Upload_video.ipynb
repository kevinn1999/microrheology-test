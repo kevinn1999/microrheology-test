{
 "cells": [
  {
   "cell_type": "code",
   "execution_count": 12,
   "metadata": {
    "collapsed": false
   },
   "outputs": [],
   "source": [
    "import pymongo\n",
    "import gridfs\n",
    "import mimetypes\n",
    "\n",
    "# connect to the database\n",
    "conn=pymongo.MongoClient('bt-c-imag-018.glc.pg.com')\n",
    "grid_fs = gridfs.GridFS(conn.video_test)        \n",
    "\n",
    "filename_orig='DDM-conditioner-63-100.cin'\n",
    "interval=0.01        \n",
    "filename=filename_orig \n",
    "operator='Marco'\n",
    "\n",
    "info={'interval':interval,\n",
    "      'filename' : filename,\n",
    "      'muperpix':0.1,\n",
    "      'operator':operator\n",
    "     }\n",
    "\n",
    "#Opening and Storing the .cin file to the Database\n",
    "CIN=open(filename_orig,'rb').read()\n",
    "with grid_fs.new_file(\n",
    "    filename=filename,\n",
    "    content_type='video_cin',info=info) as fp:\n",
    "        fp.write(CIN)"
   ]
  }
 ],
 "metadata": {
  "kernelspec": {
   "display_name": "Python 3",
   "language": "python",
   "name": "python3"
  },
  "language_info": {
   "codemirror_mode": {
    "name": "ipython",
    "version": 3
   },
   "file_extension": ".py",
   "mimetype": "text/x-python",
   "name": "python",
   "nbconvert_exporter": "python",
   "pygments_lexer": "ipython3",
   "version": "3.4.3"
  }
 },
 "nbformat": 4,
 "nbformat_minor": 0
}
