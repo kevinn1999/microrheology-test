{
 "cells": [
  {
   "cell_type": "code",
   "execution_count": 1,
   "metadata": {},
   "outputs": [],
   "source": [
    "import numpy\n",
    "import matplotlib\n",
    "from matplotlib import pylab, mlab, pyplot\n",
    "np = numpy\n",
    "plt = pyplot\n",
    "from matplotlib.pyplot import *\n",
    "import os\n",
    "import glob\n",
    "import warnings\n",
    "warnings.filterwarnings(\"ignore\", category=FutureWarning)\n",
    "\n",
    "from IPython.display import display\n",
    "from IPython.core.pylabtools import figsize, getfigs\n",
    "\n",
    "from pylab import *\n",
    "from numpy import *\n",
    "\n",
    "import pandas as pd\n",
    "\n",
    "from ipywidgets.widgets import interact, interactive, fixed\n",
    "from ipywidgets import widgets\n",
    "from scipy import fftpack\n",
    "from IPython.display import display\n",
    "from PIL import Image\n",
    "import pims\n",
    "import scipy.optimize as optimization\n",
    "import pandas as pd\n",
    "import pymongo\n",
    "import gridfs\n",
    "import mimetypes"
   ]
  },
  {
   "cell_type": "code",
   "execution_count": 2,
   "metadata": {},
   "outputs": [],
   "source": [
    "from cine_mongodb import *"
   ]
  },
  {
   "cell_type": "code",
   "execution_count": 3,
   "metadata": {},
   "outputs": [],
   "source": [
    "# connect to the database\n",
    "conn=pymongo.MongoClient()\n",
    "grid_fs = gridfs.GridFS(conn.microrheology)\n",
    "grid_fs_collection=conn.microrheology.fs.files"
   ]
  },
  {
   "cell_type": "code",
   "execution_count": 4,
   "metadata": {},
   "outputs": [],
   "source": [
    "video=grid_fs.get_last_version('400nm_100dil_water_01umpix_100fps_short.cin')\n",
    "pims_video=Cine(video)\n",
    "pims_video.info=video.info\n",
    "pims_video.result_PT=pd.read_json(video.result_PT)"
   ]
  },
  {
   "cell_type": "markdown",
   "metadata": {},
   "source": [
    "# Differential Dinamic Microscopy analysis\n",
    "\n",
    "based on:\n",
    "\n",
    "Cerbino, Roberto, and Veronique Trappe. \"Differential dynamic microscopy: probing wave vector dependent dynamics with a microscope.\" Physical review letters 100.18 (2008): 188102."
   ]
  },
  {
   "cell_type": "code",
   "execution_count": 5,
   "metadata": {
    "code_folding": [
     0,
     59,
     104
    ]
   },
   "outputs": [],
   "source": [
    "def browse_images_FFT(video):\n",
    "    \n",
    "    frames=len(video)\n",
    "    interval=video.info['interval']\n",
    "    muperpix=video.info['muperpix']\n",
    "    filename=video.info['filename']\n",
    "    \n",
    "    def view_image(framenum,delta):\n",
    "        figure(figsize=(12,8))\n",
    "        \n",
    "        im1=video[framenum].astype(np.float)\n",
    "        im2=video[framenum+delta].astype(np.float)\n",
    "        imdiff=im2-im1\n",
    "\n",
    "        F1=fftpack.fft2(imdiff)\n",
    "        F2 = fftpack.fftshift( F1 )\n",
    "        psd2D = np.abs( F2 )**2\n",
    "        psd1D = azimuthalAverage(psd2D)\n",
    "        \n",
    "        \n",
    "        subplot(2,3,1)\n",
    "        title('(a) image 1 $I(r,t)$, time: ' + str(framenum*interval) + ' s')\n",
    "        imshow( im1)\n",
    "        set_cmap('gray')\n",
    "        axis('off')\n",
    "        \n",
    "        subplot(2,3,2)\n",
    "        title('(b) image 2 $I(r,t+ \\Delta t)$, time: ' + str((framenum+delta)*interval) + ' s')\n",
    "        imshow( im2)\n",
    "        set_cmap('gray')\n",
    "        axis('off')\n",
    "        \n",
    "        subplot(2,3,3)\n",
    "        title('(c) image2-image1, delta t:'+ str((delta)*interval) +\n",
    "              ' s\\n $I( q ,t+ \\Delta t ) - I(q,t)$')\n",
    "        imshow( imdiff)\n",
    "        set_cmap('gray')\n",
    "        axis('off')\n",
    "        \n",
    "        subplot(2,3,4)\n",
    "        title('(d)FFT - $g(q,t)$ ')\n",
    "        imshow( np.log10( psd2D ))\n",
    "        subplot(2,3,5)\n",
    "        plot( psd1D )\n",
    "        yscale('log')\n",
    "    \n",
    "        xlabel('Spatial Frequency')\n",
    "        ylabel('Power Spectrum')\n",
    "        subplot(2,3,6)\n",
    "        plot( psd1D )\n",
    "        xscale('log')\n",
    "        yscale('log')\n",
    "        xlabel('Spatial Frequency')\n",
    "        ylabel('Power Spectrum')\n",
    "        show()\n",
    "        \n",
    "    w=interactive(view_image, framenum=(0,frames),delta=(1,frames-100))\n",
    "    return w\n",
    "\n",
    "def azimuthalAverage(image, center=None):\n",
    "    \"\"\"\n",
    "    Calculate the azimuthally averaged radial profile.\n",
    "\n",
    "    image - The 2D image\n",
    "    center - The [x,y] pixel coordinates used as the center. The default is \n",
    "             None, which then uses the center of the image (including \n",
    "             fracitonal pixels).\n",
    "    \n",
    "    \"\"\"\n",
    "    # Calculate the indices from the image\n",
    "    y, x = np.indices(image.shape)\n",
    "\n",
    "    if not center:\n",
    "        center = np.array([(x.max()-x.min())/2.0, (x.max()-x.min())/2.0])\n",
    "\n",
    "    r = np.hypot(x - center[0], y - center[1])\n",
    "\n",
    "    # Get sorted radii\n",
    "    ind = np.argsort(r.flat)\n",
    "    r_sorted = r.flat[ind]\n",
    "    i_sorted = image.flat[ind]\n",
    "\n",
    "    # Get the integer part of the radii (bin size = 1)\n",
    "    r_int = r_sorted.astype(int)\n",
    "\n",
    "    # Find all pixels that fall within each radial bin.\n",
    "    deltar = r_int[1:] - r_int[:-1]  # Assumes all radii represented\n",
    "    rind = np.where(deltar)[0]       # location of changed radius\n",
    "    nr = rind[1:] - rind[:-1]        # number of radius bin\n",
    "    \n",
    "    # Cumulative sum to figure out sums for each radius bin\n",
    "    csim = np.cumsum(i_sorted, dtype=float)\n",
    "    tbin = csim[rind[1:]] - csim[rind[:-1]]\n",
    "\n",
    "    radial_prof = tbin / nr\n",
    "\n",
    "    return radial_prof\n",
    "\n",
    "\n",
    "        \n",
    "    w=interactive(view_plot, selectq=(1,len(iq2[1,:]-1)),deltat=(1,len(deltalistsec)-1))\n",
    "    return w\n",
    "\n",
    "def browse_images(video):\n",
    "    frames=len(video)\n",
    "    interval=video.info['interval']\n",
    "    muperpix=video.info['muperpix']\n",
    "    filename=video.info['filename']\n",
    "    pixpermu=1/muperpix\n",
    "    \n",
    "    def view_image(framenum):\n",
    "        #figure(figsize=(6,6))\n",
    "        toplot=video[framenum]\n",
    "        title(str(' time: ' + str(framenum*interval) + ' s'))\n",
    "        imshow(toplot)\n",
    "        set_cmap('gray')\n",
    "        axis('off')\n",
    "        show()\n",
    "        \n",
    "        \n",
    "    w=interactive(view_image, framenum=(0,frames-21))\n",
    "    return w  "
   ]
  },
  {
   "cell_type": "code",
   "execution_count": 6,
   "metadata": {},
   "outputs": [
    {
     "data": {
      "application/vnd.jupyter.widget-view+json": {
       "model_id": "3af857150fce403c97403d11052fe263",
       "version_major": 2,
       "version_minor": 0
      },
      "text/plain": [
       "interactive(children=(IntSlider(value=150, description='framenum', max=300), IntSlider(value=100, description=…"
      ]
     },
     "metadata": {},
     "output_type": "display_data"
    }
   ],
   "source": [
    " browse_images_FFT(pims_video)"
   ]
  },
  {
   "cell_type": "code",
   "execution_count": 7,
   "metadata": {
    "code_folding": [
     4,
     33
    ]
   },
   "outputs": [],
   "source": [
    "progress_frame_pair=widgets.Text(description='current differential frame realization', value='')\n",
    "progress_dt=widgets.Text(description='current dt', value='0')\n",
    "progress_name=widgets.Text(description='Currently processed file ', value='')\n",
    "\n",
    "def _calculate_iq_delta(video,delta,naverage=None):\n",
    "    \n",
    "    frames=len(video)\n",
    "    progress_dt.value=str(delta)\n",
    "    \n",
    "    iq=[]\n",
    "    \n",
    "    if naverage is None:\n",
    "        naverage=frames-delta\n",
    "    \n",
    "    framelist=range(0,frames-delta,int((frames-delta)/naverage))\n",
    "    \n",
    "    for frame in framelist:\n",
    "        \n",
    "        im1=video[frame].astype(np.float)\n",
    "        im2=video[frame+delta].astype(np.float)\n",
    "        imdiff=im2-im1\n",
    "\n",
    "        F1=fftpack.fft2(imdiff)\n",
    "        F2 = fftpack.fftshift( F1 )\n",
    "        psd2D = np.abs( F2 )**2\n",
    "        psd1D = azimuthalAverage(psd2D)\n",
    "        \n",
    "        iq.append(psd1D)\n",
    "        \n",
    "        progress_frame_pair.value=str(frame)\n",
    "        \n",
    "    return mean(iq,0)\n",
    "\n",
    "def _calculate_iq_delta_multi(video,deltalist,naverage=None):\n",
    "\n",
    "    frames=len(video)\n",
    "    iq_matrix=[]\n",
    "        \n",
    "    for delta in deltalist:\n",
    "        iq_matrix.append(_calculate_iq_delta(video,delta,naverage))\n",
    "    \n",
    "    return array(iq_matrix)\n",
    "\n",
    "def calculate_DDM(video,naverage=None,numdt=None):\n",
    "    \n",
    "    if numdt is None:\n",
    "        numdt=20\n",
    "    \n",
    "    if naverage is None:\n",
    "        naverage=10\n",
    "    \n",
    "    progress_name.value=video.info['filename']\n",
    "    frames=len(video)\n",
    "    interval=video.info['interval']\n",
    "    muperpix=video.info['muperpix']\n",
    "    frame_len=video.frame_shape[0]  #assuming is a square \n",
    "    filename=video.info['filename']\n",
    "\n",
    "    deltalist=unique(logspace(0, log10(frames-int(frames/2)), num=numdt, endpoint=True, base=10.0, dtype=int))\n",
    "    \n",
    "    deltalistsec=transpose(array(deltalist)*interval)\n",
    "\n",
    "    iq=_calculate_iq_delta_multi(video,deltalist,naverage)\n",
    "    \n",
    "    xax=array(range(iq.shape[1]))*2*pi/(muperpix*frame_len)\n",
    "    \n",
    "    result=pd.DataFrame(iq,index=deltalistsec, columns=xax)\n",
    "    \n",
    "    video.result_FFT=result    \n",
    "    return video"
   ]
  },
  {
   "cell_type": "code",
   "execution_count": 8,
   "metadata": {},
   "outputs": [
    {
     "data": {
      "application/vnd.jupyter.widget-view+json": {
       "model_id": "bf3c35efd2fa41e697354d2189a5a02c",
       "version_major": 2,
       "version_minor": 0
      },
      "text/plain": [
       "Text(value='', description='current differential frame realization')"
      ]
     },
     "metadata": {},
     "output_type": "display_data"
    },
    {
     "data": {
      "application/vnd.jupyter.widget-view+json": {
       "model_id": "d6dc45e0a8984de5b5de0d09d69a9b88",
       "version_major": 2,
       "version_minor": 0
      },
      "text/plain": [
       "Text(value='0', description='current dt')"
      ]
     },
     "metadata": {},
     "output_type": "display_data"
    },
    {
     "data": {
      "application/vnd.jupyter.widget-view+json": {
       "model_id": "ec0ab9b6e8ad4e139f56857c189c675b",
       "version_major": 2,
       "version_minor": 0
      },
      "text/plain": [
       "Text(value='', description='Currently processed file ')"
      ]
     },
     "metadata": {},
     "output_type": "display_data"
    }
   ],
   "source": [
    "display(progress_frame_pair)\n",
    "display(progress_dt)\n",
    "display(progress_name)\n",
    "pims_video=calculate_DDM(pims_video,naverage=10,numdt=20)"
   ]
  },
  {
   "cell_type": "code",
   "execution_count": 9,
   "metadata": {},
   "outputs": [
    {
     "data": {
      "text/plain": [
       "<pymongo.results.UpdateResult at 0x48c2508>"
      ]
     },
     "execution_count": 9,
     "metadata": {},
     "output_type": "execute_result"
    }
   ],
   "source": [
    "#saving the DDM result back to the database object\n",
    "\n",
    "id_obj=video._id\n",
    "video_obj=grid_fs_collection.find_one(id_obj)\n",
    "json_res_fft=pims_video.result_FFT.to_json(orient='split')\n",
    "video_obj['result_FFT']=json_res_fft\n",
    "grid_fs_collection.update_one({'_id':id_obj}, {\"$set\": video_obj}, upsert=False)"
   ]
  },
  {
   "cell_type": "code",
   "execution_count": 10,
   "metadata": {},
   "outputs": [],
   "source": [
    "#retrieving video from database and reconstructing pims_video\n",
    "video=grid_fs.get_last_version('400nm_100dil_water_01umpix_100fps_short.cin')\n",
    "pims_video=Cine(video)\n",
    "pims_video.info=video.info\n",
    "pims_video.result_PT=pd.read_json(video.result_PT)\n",
    "pims_video.result_FFT=pd.read_json(video.result_FFT,orient='split')"
   ]
  },
  {
   "cell_type": "code",
   "execution_count": 11,
   "metadata": {},
   "outputs": [],
   "source": [
    "from lmfit import  Model\n",
    "from IPython.display import clear_output\n",
    "import lmfit\n",
    "\n",
    "def DDM_func(x, off, amp, tau):\n",
    "    return (off + amp * (1 - exp(-x/tau)))\n",
    "\n",
    "DDMmod = Model(DDM_func)\n",
    "\n",
    "\n",
    "def calculate_viscosity(video,radius=1,qmin=None,qmax=None):\n",
    "    \n",
    "    if qmin is None:\n",
    "        qmin=1\n",
    "        \n",
    "        \n",
    "    frames=len(video)\n",
    "    frame_len=shape(video[0])[0]\n",
    "    interval=video.info['interval']\n",
    "    muperpix=video.info['muperpix']\n",
    "    filename=video.info['filename']\n",
    "    \n",
    "    result=video.result_FFT\n",
    "    xax=result.columns\n",
    "    result=result[sort(list(xax))]\n",
    "    deltalistsec=array(result.index)\n",
    "    iq2=result.values\n",
    "    xax=result.columns\n",
    "    \n",
    "    if qmax is None:\n",
    "        qmax=len(xax)\n",
    "    \n",
    "    tau=[]\n",
    "    xax=[]\n",
    "    \n",
    "    for i in range(qmin,qmax):\n",
    "        \n",
    "        try:\n",
    "            result = DDMmod.fit(iq2[1:,i], x=deltalistsec[1:], amp=max(iq2[1:,i])-min(iq2[1:,i]),\n",
    "                                off=min(iq2[1:,i]),\n",
    "                                tau=mean(deltalistsec[1:]))\n",
    "        \n",
    "            tau.append(result.params['tau'].value)\n",
    "            xax.append(i*2*pi/(muperpix*frame_len))\n",
    "        except:\n",
    "            pass\n",
    "            \n",
    "    PL_model=lmfit.models.PowerLawModel()\n",
    "    pars = PL_model.guess(array(tau), x=xax)\n",
    "    out  = PL_model.fit(array(tau), pars, x=xax)\n",
    "    amplitude=out.params['amplitude'].value\n",
    "    \n",
    "    plot(xax,transpose(array(tau)),'o')\n",
    "    plot(xax,out.best_fit)\n",
    "    #xscale('log')\n",
    "    #yscale('log')\n",
    "    xlabel('q [um-1]')\n",
    "    ylabel('tau [s]')\n",
    "    \n",
    "    Dm=1/amplitude\n",
    "    viscosity=1.3806488E-23 * (273+video.info['temperature']) / (6*3.14*Dm*radius*1e-18)\n",
    "    print(viscosity)\n",
    "    \n",
    "    return viscosity\n",
    "\n",
    "\n",
    "def explore_iq_dt(video):\n",
    "    \n",
    "    frames=len(video)\n",
    "    frame_len=shape(video[0])[0]\n",
    "    interval=video.info['interval']\n",
    "    muperpix=video.info['muperpix']\n",
    "    filename=video.info['filename']\n",
    "    pixpermu=1/muperpix\n",
    "    \n",
    "    result=video.result_FFT\n",
    "    xax=result.columns\n",
    "    result=result[sort(list(xax))]\n",
    "    deltalistsec=result.index\n",
    "    iq2=result.values\n",
    "    xax=result.columns\n",
    "    \n",
    "    def view_plot(selectq,deltat):\n",
    "        figure(figsize=(15,3))\n",
    "        \n",
    "        gamma=[]\n",
    "        aq=[]\n",
    "        bq=[]\n",
    "        \n",
    "        subplot(1,3,1)\n",
    "        plot(xax,iq2[deltat,:],'o')\n",
    "        yscale('log')\n",
    "        xscale('log')\n",
    "        ylabel('I(q) [a.u.]')\n",
    "        xlabel('q [um-1]')\n",
    "        axvline(xax[selectq], color='k', linestyle='--')\n",
    "        title(r'I(q) fixed $\\Delta t$')\n",
    "        \n",
    "        \n",
    "        subplot(1,3,2)\n",
    "        plot(deltalistsec,iq2[:,selectq],'o')\n",
    "        xscale('log')\n",
    "        yscale('log')\n",
    "        ylabel('g(q,dt) [a.u]')\n",
    "        xlabel('Delta t [s]')\n",
    "\n",
    "        try:\n",
    "            result = DDMmod.fit(iq2[1:,selectq], x=deltalistsec[1:], amp=max(iq2[1:,selectq])-min(iq2[1:,selectq]),\n",
    "                                off=min(iq2[1:,selectq]),\n",
    "                                tau=mean(deltalistsec[1:]));\n",
    "            #clear_output()\n",
    "            tau=result.params['tau'].value\n",
    "            off=result.params['off'].value\n",
    "            amp=result.params['amp'].value\n",
    "\n",
    "            plot(deltalistsec[1:], result.best_fit, 'r-')\n",
    "            axvline(deltat*interval, color='k', linestyle='--')\n",
    "\n",
    "            subplot(1,3,3)\n",
    "            plot(deltalistsec,-((iq2[:,selectq]-(off+amp))/amp),'o')\n",
    "            plot(deltalistsec,exp(-deltalistsec/tau))\n",
    "            axvline(deltat*interval, color='k', linestyle='--')\n",
    "            xscale('log')\n",
    "            ylabel('f(q,dt) [a.u.]')\n",
    "            xlabel('Delta t')\n",
    "        except:\n",
    "            pass\n",
    "            \n",
    "        \n",
    "        \n",
    "    w=interactive(view_plot, selectq=(1,len(iq2[1,:]-1)),deltat=(1,len(deltalistsec)-1))\n",
    "    return w"
   ]
  },
  {
   "cell_type": "code",
   "execution_count": 12,
   "metadata": {},
   "outputs": [
    {
     "data": {
      "application/vnd.jupyter.widget-view+json": {
       "model_id": "370db20129fd457882def3814d04bead",
       "version_major": 2,
       "version_minor": 0
      },
      "text/plain": [
       "interactive(children=(IntSlider(value=180, description='selectq', max=360, min=1), IntSlider(value=8, descript…"
      ]
     },
     "metadata": {},
     "output_type": "display_data"
    }
   ],
   "source": [
    "explore_iq_dt(pims_video)"
   ]
  },
  {
   "cell_type": "markdown",
   "metadata": {},
   "source": [
    "$$g(q,\\tau) = A(q) [1-f(q,\\tau)] +B(q)$$\n",
    "\n",
    "$$f(q,\\tau) = e^{-Dq^2 \\tau}$$\n",
    "\n",
    "$$ \\tau=\\frac{D}{q^2}$$"
   ]
  },
  {
   "cell_type": "code",
   "execution_count": 13,
   "metadata": {},
   "outputs": [
    {
     "data": {
      "text/plain": [
       "Text(0,0.5,'q')"
      ]
     },
     "execution_count": 13,
     "metadata": {},
     "output_type": "execute_result"
    },
    {
     "data": {
      "image/png": "[encoded data removed]",
      "text/plain": [
       "<Figure size 432x288 with 1 Axes>"
      ]
     },
     "metadata": {},
     "output_type": "display_data"
    }
   ],
   "source": [
    "imshow(pims_video.result_FFT.transpose(),cmap='jet',aspect='auto')\n",
    "xlabel(\"delta t\")\n",
    "ylabel('q')"
   ]
  },
  {
   "cell_type": "code",
   "execution_count": 14,
   "metadata": {},
   "outputs": [
    {
     "name": "stdout",
     "output_type": "stream",
     "text": [
      "0.000657345438791\n"
     ]
    },
    {
     "data": {
      "text/plain": [
       "0.00065734543879134044"
      ]
     },
     "execution_count": 14,
     "metadata": {},
     "output_type": "execute_result"
    },
    {
     "data": {
      "image/png": "[encoded data removed]",
      "text/plain": [
       "<Figure size 432x288 with 1 Axes>"
      ]
     },
     "metadata": {},
     "output_type": "display_data"
    }
   ],
   "source": [
    "calculate_viscosity(pims_video,radius=0.2,qmin=10,qmax=40)"
   ]
  },
  {
   "cell_type": "code",
   "execution_count": null,
   "metadata": {},
   "outputs": [],
   "source": []
  }
 ],
 "metadata": {
  "hide_input": false,
  "kernelspec": {
   "display_name": "Python [default]",
   "language": "python",
   "name": "python3"
  },
  "language_info": {
   "codemirror_mode": {
    "name": "ipython",
    "version": 3
   },
   "file_extension": ".py",
   "mimetype": "text/x-python",
   "name": "python",
   "nbconvert_exporter": "python",
   "pygments_lexer": "ipython3",
   "version": "3.6.5"
  }
 },
 "nbformat": 4,
 "nbformat_minor": 2
}
