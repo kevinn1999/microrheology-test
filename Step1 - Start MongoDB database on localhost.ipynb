{
 "cells": [
  {
   "cell_type": "markdown",
   "metadata": {},
   "source": [
    "# Start MongoDB database\n",
    "\n",
    "In principle this step can be avoided if a MongoDB database is available outside the container to read and store data.\n",
    "I used to have a test database on Mlab and I was able to connect to it from binder.\n",
    "While this is not working a workaround to have an available mongodb is to install it in the container through conda and start it with a shell command:\n",
    "\n",
    "`!mongod --dbpath=data/db`"
   ]
  },
  {
   "cell_type": "code",
   "execution_count": null,
   "metadata": {},
   "outputs": [
    {
     "name": "stdout",
     "output_type": "stream",
     "text": [
      "2018-06-14T13:02:35.482+0000 I CONTROL  [initandlisten] MongoDB starting : pid=63 port=27017 dbpath=data/db 64-bit host=jupyter-marcocaggioni-2dmicrorheology-2dtest-2d6tih8nbl\n",
      "2018-06-14T13:02:35.482+0000 I CONTROL  [initandlisten] db version v3.4.10-4-g67ee356c6b\n",
      "2018-06-14T13:02:35.482+0000 I CONTROL  [initandlisten] git version: 67ee356c6be377cda547d16423daef5beb4e8377\n",
      "2018-06-14T13:02:35.482+0000 I CONTROL  [initandlisten] OpenSSL version: OpenSSL 1.0.2o  27 Mar 2018\n",
      "2018-06-14T13:02:35.482+0000 I CONTROL  [initandlisten] allocator: tcmalloc\n",
      "2018-06-14T13:02:35.482+0000 I CONTROL  [initandlisten] modules: none\n",
      "2018-06-14T13:02:35.482+0000 I CONTROL  [initandlisten] build environment:\n",
      "2018-06-14T13:02:35.482+0000 I CONTROL  [initandlisten]     distarch: x86_64\n",
      "2018-06-14T13:02:35.482+0000 I CONTROL  [initandlisten]     target_arch: x86_64\n",
      "2018-06-14T13:02:35.482+0000 I CONTROL  [initandlisten] options: { storage: { dbPath: \"data/db\" } }\n",
      "2018-06-14T13:02:35.486+0000 I STORAGE  [initandlisten] wiredtiger_open config: create,cache_size=51862M,session_max=20000,eviction=(threads_min=4,threads_max=4),config_base=false,statistics=(fast),log=(enabled=true,archive=true,path=journal,compressor=snappy),file_manager=(close_idle_time=100000),checkpoint=(wait=60,log_size=2GB),statistics_log=(wait=0),\n",
      "2018-06-14T13:02:35.541+0000 I CONTROL  [initandlisten] \n",
      "2018-06-14T13:02:35.542+0000 I CONTROL  [initandlisten] ** WARNING: Access control is not enabled for the database.\n",
      "2018-06-14T13:02:35.542+0000 I CONTROL  [initandlisten] **          Read and write access to data and configuration is unrestricted.\n",
      "2018-06-14T13:02:35.542+0000 I CONTROL  [initandlisten] \n",
      "2018-06-14T13:02:35.553+0000 I FTDC     [initandlisten] Initializing full-time diagnostic data capture with directory 'data/db/diagnostic.data'\n",
      "2018-06-14T13:02:35.571+0000 I INDEX    [initandlisten] build index on: admin.system.version properties: { v: 2, key: { version: 1 }, name: \"incompatible_with_version_32\", ns: \"admin.system.version\" }\n",
      "2018-06-14T13:02:35.571+0000 I INDEX    [initandlisten] \t building index using bulk method; build may temporarily use up to 500 megabytes of RAM\n",
      "2018-06-14T13:02:35.571+0000 I INDEX    [initandlisten] build index done.  scanned 0 total records. 0 secs\n",
      "2018-06-14T13:02:35.572+0000 I COMMAND  [initandlisten] setting featureCompatibilityVersion to 3.4\n",
      "2018-06-14T13:02:35.572+0000 I NETWORK  [thread1] waiting for connections on port 27017\n",
      "2018-06-14T13:10:21.181+0000 I NETWORK  [thread1] connection accepted from 127.0.0.1:60882 #1 (1 connection now open)\n",
      "2018-06-14T13:10:21.184+0000 I NETWORK  [conn1] received client metadata from 127.0.0.1:60882 conn1: { driver: { name: \"PyMongo\", version: \"3.6.1\" }, os: { type: \"Linux\", name: \"Linux\", architecture: \"x86_64\", version: \"4.14.22+\" }, platform: \"CPython 3.6.5.final.0\" }\n",
      "2018-06-14T13:10:31.645+0000 I NETWORK  [thread1] connection accepted from 127.0.0.1:43104 #2 (2 connections now open)\n",
      "2018-06-14T13:10:31.646+0000 I -        [conn1] end connection 127.0.0.1:60882 (2 connections now open)\n",
      "2018-06-14T13:10:31.646+0000 I NETWORK  [conn2] received client metadata from 127.0.0.1:43104 conn2: { driver: { name: \"PyMongo\", version: \"3.6.1\" }, os: { type: \"Linux\", name: \"Linux\", architecture: \"x86_64\", version: \"4.14.22+\" }, platform: \"CPython 3.6.5.final.0\" }\n",
      "2018-06-14T13:10:35.409+0000 I NETWORK  [thread1] connection accepted from 127.0.0.1:46878 #3 (2 connections now open)\n",
      "2018-06-14T13:10:35.409+0000 I NETWORK  [conn3] received client metadata from 127.0.0.1:46878 conn3: { driver: { name: \"PyMongo\", version: \"3.6.1\" }, os: { type: \"Linux\", name: \"Linux\", architecture: \"x86_64\", version: \"4.14.22+\" }, platform: \"CPython 3.6.5.final.0\" }\n",
      "2018-06-14T13:10:35.427+0000 I INDEX    [conn3] build index on: microrheology.fs.files properties: { v: 2, key: { filename: 1, uploadDate: 1 }, name: \"filename_1_uploadDate_1\", ns: \"microrheology.fs.files\" }\n",
      "2018-06-14T13:10:35.427+0000 I INDEX    [conn3] \t building index using bulk method; build may temporarily use up to 500 megabytes of RAM\n",
      "2018-06-14T13:10:35.428+0000 I INDEX    [conn3] build index done.  scanned 0 total records. 0 secs\n",
      "2018-06-14T13:10:35.446+0000 I INDEX    [conn3] build index on: microrheology.fs.chunks properties: { v: 2, unique: true, key: { files_id: 1, n: 1 }, name: \"files_id_1_n_1\", ns: \"microrheology.fs.chunks\" }\n",
      "2018-06-14T13:10:35.446+0000 I INDEX    [conn3] \t building index using bulk method; build may temporarily use up to 500 megabytes of RAM\n",
      "2018-06-14T13:10:35.447+0000 I INDEX    [conn3] build index done.  scanned 0 total records. 0 secs\n",
      "2018-06-14T13:21:10.326+0000 I NETWORK  [thread1] connection accepted from 127.0.0.1:51320 #4 (3 connections now open)\n",
      "2018-06-14T13:21:10.327+0000 I NETWORK  [conn4] received client metadata from 127.0.0.1:51320 conn4: { driver: { name: \"PyMongo\", version: \"3.6.1\" }, os: { type: \"Linux\", name: \"Linux\", architecture: \"x86_64\", version: \"4.14.22+\" }, platform: \"CPython 3.6.5.final.0\" }\n",
      "2018-06-14T13:21:12.106+0000 I NETWORK  [thread1] connection accepted from 127.0.0.1:53972 #5 (4 connections now open)\n",
      "2018-06-14T13:21:12.106+0000 I NETWORK  [conn5] received client metadata from 127.0.0.1:53972 conn5: { driver: { name: \"PyMongo\", version: \"3.6.1\" }, os: { type: \"Linux\", name: \"Linux\", architecture: \"x86_64\", version: \"4.14.22+\" }, platform: \"CPython 3.6.5.final.0\" }\n",
      "2018-06-14T13:22:45.931+0000 I -        [conn4] end connection 127.0.0.1:51320 (4 connections now open)\n",
      "2018-06-14T13:22:45.931+0000 I -        [conn5] end connection 127.0.0.1:53972 (4 connections now open)\n",
      "2018-06-14T13:22:45.932+0000 I NETWORK  [thread1] connection accepted from 127.0.0.1:52570 #6 (3 connections now open)\n",
      "2018-06-14T13:22:45.933+0000 I NETWORK  [conn6] received client metadata from 127.0.0.1:52570 conn6: { driver: { name: \"PyMongo\", version: \"3.6.1\" }, os: { type: \"Linux\", name: \"Linux\", architecture: \"x86_64\", version: \"4.14.22+\" }, platform: \"CPython 3.6.5.final.0\" }\n",
      "2018-06-14T13:23:01.455+0000 I NETWORK  [thread1] connection accepted from 127.0.0.1:48852 #7 (4 connections now open)\n",
      "2018-06-14T13:23:01.456+0000 I NETWORK  [conn7] received client metadata from 127.0.0.1:48852 conn7: { driver: { name: \"PyMongo\", version: \"3.6.1\" }, os: { type: \"Linux\", name: \"Linux\", architecture: \"x86_64\", version: \"4.14.22+\" }, platform: \"CPython 3.6.5.final.0\" }\n",
      "2018-06-14T13:31:01.667+0000 I -        [conn2] end connection 127.0.0.1:43104 (4 connections now open)\n",
      "2018-06-14T13:31:01.667+0000 I -        [conn3] end connection 127.0.0.1:46878 (4 connections now open)\n",
      "2018-06-14T13:31:11.342+0000 I -        [conn7] end connection 127.0.0.1:48852 (2 connections now open)\n",
      "2018-06-14T13:33:46.243+0000 I NETWORK  [thread1] connection accepted from 127.0.0.1:34674 #8 (2 connections now open)\n",
      "2018-06-14T13:33:46.243+0000 I NETWORK  [conn8] received client metadata from 127.0.0.1:34674 conn8: { driver: { name: \"PyMongo\", version: \"3.6.1\" }, os: { type: \"Linux\", name: \"Linux\", architecture: \"x86_64\", version: \"4.14.22+\" }, platform: \"CPython 3.6.5.final.0\" }\n",
      "2018-06-14T13:33:46.244+0000 I -        [conn8] end connection 127.0.0.1:34674 (2 connections now open)\n",
      "2018-06-14T13:41:07.054+0000 I NETWORK  [thread1] connection accepted from 127.0.0.1:34704 #9 (2 connections now open)\n",
      "2018-06-14T13:41:07.054+0000 I NETWORK  [conn9] received client metadata from 127.0.0.1:34704 conn9: { driver: { name: \"PyMongo\", version: \"3.6.1\" }, os: { type: \"Linux\", name: \"Linux\", architecture: \"x86_64\", version: \"4.14.22+\" }, platform: \"CPython 3.6.5.final.0\" }\n",
      "2018-06-14T14:04:27.796+0000 I NETWORK  [thread1] connection accepted from 127.0.0.1:52714 #10 (3 connections now open)\n",
      "2018-06-14T14:04:27.799+0000 I NETWORK  [conn10] received client metadata from 127.0.0.1:52714 conn10: { driver: { name: \"PyMongo\", version: \"3.6.1\" }, os: { type: \"Linux\", name: \"Linux\", architecture: \"x86_64\", version: \"4.14.22+\" }, platform: \"CPython 3.6.5.final.0\" }\n",
      "2018-06-14T14:04:57.817+0000 I NETWORK  [thread1] connection accepted from 127.0.0.1:54864 #11 (4 connections now open)\n",
      "2018-06-14T14:04:57.818+0000 I NETWORK  [conn11] received client metadata from 127.0.0.1:54864 conn11: { driver: { name: \"PyMongo\", version: \"3.6.1\" }, os: { type: \"Linux\", name: \"Linux\", architecture: \"x86_64\", version: \"4.14.22+\" }, platform: \"CPython 3.6.5.final.0\" }\n"
     ]
    },
    {
     "name": "stdout",
     "output_type": "stream",
     "text": [
      "2018-06-14T14:13:01.615+0000 I -        [conn9] end connection 127.0.0.1:34704 (4 connections now open)\n",
      "2018-06-14T14:13:01.615+0000 I -        [conn6] end connection 127.0.0.1:52570 (4 connections now open)\n",
      "2018-06-14T14:15:01.577+0000 I -        [conn11] end connection 127.0.0.1:54864 (2 connections now open)\n",
      "2018-06-14T14:15:01.577+0000 I -        [conn10] end connection 127.0.0.1:52714 (2 connections now open)\n"
     ]
    }
   ],
   "source": [
    "!mongod --dbpath=data/db"
   ]
  },
  {
   "cell_type": "markdown",
   "metadata": {},
   "source": [
    "Once started the database will listen from localhost on the default port 27017 and can be used for the rest of the demonstration"
   ]
  },
  {
   "cell_type": "code",
   "execution_count": null,
   "metadata": {},
   "outputs": [],
   "source": []
  }
 ],
 "metadata": {
  "kernelspec": {
   "display_name": "Python 3",
   "language": "python",
   "name": "python3"
  },
  "language_info": {
   "codemirror_mode": {
    "name": "ipython",
    "version": 3
   },
   "file_extension": ".py",
   "mimetype": "text/x-python",
   "name": "python",
   "nbconvert_exporter": "python",
   "pygments_lexer": "ipython3",
   "version": "3.6.5"
  }
 },
 "nbformat": 4,
 "nbformat_minor": 2
}
